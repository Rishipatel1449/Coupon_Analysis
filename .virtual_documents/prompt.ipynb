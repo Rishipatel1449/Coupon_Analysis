








import matplotlib.pyplot as plt
import seaborn as sns
import pandas as pd
import numpy as np





data = pd.read_csv('data/coupons.csv')


data.head()





Database_info = data.info()


Null_total = data.isnull().sum()


print(Database_info)

print(Null_total)





data = data.drop(columns=['car'], errors='ignore')

#rest missing values I'm replacing with value unknown as they are objects 

cols = ['Bar', 'CoffeeHouse', 'CarryAway', 
                'RestaurantLessThan20', 'Restaurant20To50']
data[cols] = data[cols].fillna("Unknown")

data.isnull().sum()





total = len(data)

# number of accepted coupons
accepted = data['Y'].sum()

# proportion
proportion = accepted / total

print(total)
print(accepted)
print(proportion)





plt.figure(figsize=(10,6))
sns.countplot(data=data, x='coupon', order=data['coupon'].value_counts().index)
plt.xlabel("Coupon Type", fontsize=12)







sns.histplot(data=data, x='temperature', bins=20, kde=True, color='skyblue')





bar_coupons = data[data['coupon'] == 'Bar']

bar_coupons.head()





total_bar =len(bar_coupons)

accepted_bar = bar_coupons['Y'].sum()

proportion_bar = accepted_bar / total_bar
print(proportion_bar)





low_bar = ["never", "less1", "1~3"]
high_bar = ["4~8", "gt8"]

low_acceptance = bar_coupons[bar_coupons['Bar'].isin(low_bar)]['Y'].mean()

high_acceptance = bar_coupons[bar_coupons['Bar'].isin(high_bar)]['Y'].mean()

print(low_acceptance)

print(high_acceptance)






data['age_clean'] = data['age'].str.extract('(\d+)').astype(int)
bar_more_than_once = data['Bar'].isin(["1~3", "4~8", "gt8"])
age_over_25 = data['age_clean'] > 25

# Group A: both conditions
groupA = data[bar_more_than_once & age_over_25]

# Group B: everyone else
groupB = data[~(bar_more_than_once & age_over_25)]

rateA = groupA['Y'].mean()
rateB = groupB['Y'].mean()

print(f"Acceptance rate (Bar >1/month & Age >25): {rateA}")
print(f"Acceptance rate (All others): {rateB}")





bar_more_than_once = data['Bar'].isin(["1~3", "4~8", "gt8"])

not_kids = data['passanger'] != "Kid(s)"
not_farming = data['occupation'] != "Farming, Fishing, and Forestry"
groupA = data[bar_more_than_once & not_kids & not_farming]
groupB = data[~(bar_more_than_once & not_kids & not_farming)]

rateA = groupA['Y'].mean()
rateB = groupB['Y'].mean()

print(f"Acceptance rate (Bar>1/mo, no kids passengers, non-farming jobs): {rateA}")
print(f"Acceptance rate (All others): {rateB}")





barMoreThanOnce = data['Bar'].str.strip().isin(["1~3","4~8","gt8"])
#print(barMoreThanOnce)
notKids =  data['passanger'] != "Kid(s)"
#print(notKids)
notWidowed = data['maritalStatus'] != "Widowed"
#print(notWidowed)
underAgeThirty = data['age'].str.extract('(\d+)').astype(int) < 30 
#print(underAgeThirty)
cheapRestaurants = data['RestaurantLessThan20'].isin(["4~8","gt8"])
#print(cheapRestaurants)
lowIncome = data['income'].isin(["Less than $12500", "$12500 - $24999", "$25000 - $37499", "$37500 - $49999"])
#print(lowIncome)

condition1 = barMoreThanOnce & notKids & notWidowed

condition2 = barMoreThanOnce & underAgeThirty 

condition3= cheapRestaurants & lowIncome


#Combine
total = condition1 | condition2 | condition3

groupA = data[total]

# Group B: all others
groupB = data[~total]

rateA = groupA['Y'].mean()
rateB = groupB['Y'].mean()

print(f"Acceptance rate (Target Group): {rateA:.2%}")
print(f"Acceptance rate (All Others): {rateB:.2%}")



7.  Based on these observations, what do you hypothesize about drivers who accepted the bar coupons?








coffee_coupons = data[data['coupon'] == 'Bar']

coffee_coupons.head()


total_bar =len(bar_coupons)

accepted_bar = bar_coupons['Y'].sum()

proportion_bar = accepted_bar / total_bar
print(proportion_bar)









